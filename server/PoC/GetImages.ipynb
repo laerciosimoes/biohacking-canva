{
 "cells": [
  {
   "cell_type": "code",
   "execution_count": 1,
   "metadata": {},
   "outputs": [],
   "source": [
    "result = \"\"\"\n",
    "[\n",
    "    {\n",
    "        \"scene_number\": 1,\n",
    "        \"Title\": \"Introduction\",\n",
    "        \"Description\": \"The scene opens with a wide-shot view of a modern office space, filled with employees working on their computers. The HPC BRASIL logo is prominently displayed on the wall.\",\n",
    "        \"Tags\": [\"office\", \"workplace\", \"employees\", \"branding\"],\n",
    "        \"VoiceOver\": \"At HPC BRASIL, our mission is to drive innovation through technology consulting.\",\n",
    "        \"Duration\": 10,\n",
    "        \"QueryImage\": \"modern technology office\"\n",
    "    },\n",
    "    {\n",
    "        \"scene_number\": 2,\n",
    "        \"Title\": \"Our Mission\",\n",
    "        \"Description\": \"The camera zooms in on the mission statement framed on the office wall. The scene transitions to various employees working diligently and collaboratively.\",\n",
    "        \"Tags\": [\"mission statement\", \"employee collaboration\", \"workspace\"],\n",
    "        \"VoiceOver\": \"We believe in leveraging cutting-edge solutions to empower businesses and organizations to thrive in a rapidly evolving digital landscape.\",\n",
    "        \"Duration\": 12,\n",
    "        \"QueryImage\": \"office employees working together\"\n",
    "    },\n",
    "    {\n",
    "        \"scene_number\": 3,\n",
    "        \"Title\": \"Our Expertise\",\n",
    "        \"Description\": \"The scene shifts to a round table discussion with senior consultants. They are seen brainstorming, discussing charts, and working on laptops.\",\n",
    "        \"Tags\": [\"consultants\", \"meeting\", \"brainstorming\"],\n",
    "        \"VoiceOver\": \"Our consultants possess a deep understanding of industry trends, emerging technologies, and best practices, allowing us to offer strategic guidance and implement tailored solutions that address our clients' unique challenges and objectives.\",\n",
    "        \"Duration\": 15,\n",
    "        \"QueryImage\": \"technology consultants meeting\"\n",
    "    },\n",
    "    {\n",
    "        \"scene_number\": 4,\n",
    "        \"Title\": \"Our Services\",\n",
    "        \"Description\": \"The scene transitions to various visuals representing different industries - a busy hospital, a bustling factory, a lively startup office, and a financial institution. Overlay graphics show the different services provided by HPC BRASIL.\",\n",
    "        \"Tags\": [\"industry visuals\", \"services\", \"hospital\", \"factory\", \"startup\", \"finance\"],\n",
    "        \"VoiceOver\": \"From startups to enterprises, we provide end-to-end solutions in software development, big data analytics, artificial intelligence, and blockchain technology. Our expertise spans industries such as finance, healthcare, e-commerce, manufacturing, and more.\",\n",
    "        \"Duration\": 20,\n",
    "        \"QueryImage\": \"diverse industry visuals\"\n",
    "    }\n",
    "]\n",
    "\"\"\""
   ]
  },
  {
   "cell_type": "code",
   "execution_count": 2,
   "metadata": {},
   "outputs": [
    {
     "name": "stdout",
     "output_type": "stream",
     "text": [
      "https://images.unsplash.com/photo-1680745840784-318be3708374?crop=entropy&cs=tinysrgb&fit=max&fm=jpg&ixid=M3w2MzkwNzZ8MHwxfHNlYXJjaHwxfHxkaXZlcnNlJTIwaW5kdXN0cnklMjB2aXN1YWxzfGVufDB8fHx8MTcyMjU5NjgwNnww&ixlib=rb-4.0.3&q=80&w=1080\n"
     ]
    }
   ],
   "source": [
    "import queryImages\n",
    "\n",
    "imageUrl = queryImages.FindImages(\"diverse industry visuals\")\n",
    "print(imageUrl)"
   ]
  },
  {
   "cell_type": "code",
   "execution_count": 4,
   "metadata": {},
   "outputs": [
    {
     "name": "stdout",
     "output_type": "stream",
     "text": [
      "https://images.unsplash.com/photo-1593642632559-0c6d3fc62b89?crop=entropy&cs=tinysrgb&fit=max&fm=jpg&ixid=M3w2MzkwNzZ8MHwxfHNlYXJjaHwxfHxtb2Rlcm4lMjB0ZWNobm9sb2d5JTIwb2ZmaWNlfGVufDB8fHx8MTcyMjU5Njk3MHww&ixlib=rb-4.0.3&q=80&w=1080\n",
      "https://images.unsplash.com/photo-1521737604893-d14cc237f11d?crop=entropy&cs=tinysrgb&fit=max&fm=jpg&ixid=M3w2MzkwNzZ8MHwxfHNlYXJjaHwxfHxvZmZpY2UlMjBlbXBsb3llZXMlMjB3b3JraW5nJTIwdG9nZXRoZXJ8ZW58MHx8fHwxNzIyNTk2OTcwfDA&ixlib=rb-4.0.3&q=80&w=1080\n",
      "https://images.unsplash.com/photo-1486312338219-ce68d2c6f44d?crop=entropy&cs=tinysrgb&fit=max&fm=jpg&ixid=M3w2MzkwNzZ8MHwxfHNlYXJjaHwxfHx0ZWNobm9sb2d5JTIwY29uc3VsdGFudHMlMjBtZWV0aW5nfGVufDB8fHx8MTcyMjU5Njk3MXww&ixlib=rb-4.0.3&q=80&w=1080\n",
      "https://images.unsplash.com/photo-1680745840784-318be3708374?crop=entropy&cs=tinysrgb&fit=max&fm=jpg&ixid=M3w2MzkwNzZ8MHwxfHNlYXJjaHwxfHxkaXZlcnNlJTIwaW5kdXN0cnklMjB2aXN1YWxzfGVufDB8fHx8MTcyMjU5NjgwNnww&ixlib=rb-4.0.3&q=80&w=1080\n"
     ]
    }
   ],
   "source": [
    "import json\n",
    "json_Data = json.loads(result)  \n",
    "imageUrls = []\n",
    "for item in json_Data:\n",
    "    imageUrls.append(queryImages.FindImages(item[\"QueryImage\"]))\n",
    "    \n",
    "for imgUrl in imageUrls:\n",
    "    print(imgUrl)"
   ]
  }
 ],
 "metadata": {
  "kernelspec": {
   "display_name": "Python 3",
   "language": "python",
   "name": "python3"
  },
  "language_info": {
   "codemirror_mode": {
    "name": "ipython",
    "version": 3
   },
   "file_extension": ".py",
   "mimetype": "text/x-python",
   "name": "python",
   "nbconvert_exporter": "python",
   "pygments_lexer": "ipython3",
   "version": "3.12.4"
  }
 },
 "nbformat": 4,
 "nbformat_minor": 2
}
