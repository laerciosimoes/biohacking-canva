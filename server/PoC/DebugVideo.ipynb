{
 "cells": [
  {
   "cell_type": "code",
   "execution_count": 1,
   "metadata": {},
   "outputs": [],
   "source": [
    "import os\n",
    "import sys\n",
    "import json\n",
    "import time\n",
    "\n",
    "sys.path.append(os.path.abspath(os.path.join(os.getcwd(), \"..\")))\n",
    "\n",
    "from app import getScript\n",
    "import videoFile"
   ]
  },
  {
   "cell_type": "code",
   "execution_count": 2,
   "metadata": {},
   "outputs": [],
   "source": [
    "imageUrls = [\n",
    "    \"https://images.unsplash.com/photo-1485727749690-d091e8284ef3?crop=entropy&cs=tinysrgb&fit=max&fm=jpg&ixid=M3w2MzkwNzZ8MHwxfHNlYXJjaHwxfHxHeW1uYXN0aWNzJTIwdHJhaW5pbmd8ZW58MHx8fHwxNzIyNzg3NTg1fDA&ixlib=rb-4.0.3&q=80&w=1080\",\n",
    "    \"https://images.unsplash.com/photo-1505619730259-b1288d154955?crop=entropy&cs=tinysrgb&fit=max&fm=jpg&ixid=M3w2MzkwNzZ8MHwxfHNlYXJjaHwxfHxHeW1uYXN0aWNzJTIwY29tcGV0aXRpb258ZW58MHx8fHwxNzIyNzgxNDY0fDA&ixlib=rb-4.0.3&q=80&w=1080\",\n",
    "    \"https://images.unsplash.com/photo-1505619730259-b1288d154955?crop=entropy&cs=tinysrgb&fit=max&fm=jpg&ixid=M3w2MzkwNzZ8MHwxfHNlYXJjaHwxfHxHeW1uYXN0aWNzJTIwdmljdG9yeXxlbnwwfHx8fDE3MjI3ODc1ODV8MA&ixlib=rb-4.0.3&q=80&w=1080\",\n",
    "]\n",
    "\n",
    "with open('example.json') as f:\n",
    "    json_data = json.load(f)\n",
    " "
   ]
  },
  {
   "cell_type": "code",
   "execution_count": 3,
   "metadata": {},
   "outputs": [],
   "source": [
    "from moviepy.editor import (\n",
    "    ImageClip,\n",
    "    TextClip,\n",
    "    ColorClip,\n",
    "    CompositeVideoClip,\n",
    "    concatenate_videoclips,\n",
    ")"
   ]
  },
  {
   "cell_type": "code",
   "execution_count": 5,
   "metadata": {},
   "outputs": [],
   "source": [
    "import uuid\n",
    "import requests\n",
    "\n",
    "\n",
    "# Função para baixar imagens\n",
    "def download_image(url, filename):\n",
    "    response = requests.get(url)\n",
    "    with open(filename, \"wb\") as f:\n",
    "        f.write(response.content)\n",
    "\n",
    "\n",
    "clips = []\n",
    "scene = json_data[0]\n",
    "image_url = imageUrls[0]\n",
    "\n",
    "duration = scene[\"Duration\"]\n",
    "description = scene[\"Description\"]\n",
    "\n",
    "# Verificar se a duração e a URL da imagem são válidas\n",
    "if duration is None:\n",
    "    raise ValueError(\"A duração não pode ser None\")\n",
    "duration = int(duration)\n",
    "if not image_url:\n",
    "    raise ValueError(\"URL da imagem não pode ser None\")\n",
    "\n",
    "# Nome do arquivo de imagem temporário\n",
    "image_filename = f\"image_{uuid.uuid4().hex}.jpg\"\n",
    "\n",
    "# Baixar imagem\n",
    "download_image(image_url, image_filename)\n",
    "\n",
    "# Criar clipe de imagem\n",
    "img_clip = ImageClip(image_filename).set_duration(duration)"
   ]
  },
  {
   "cell_type": "code",
   "execution_count": 6,
   "metadata": {},
   "outputs": [],
   "source": [
    "# Criar clipe de imagem\n",
    "img_clip = ImageClip(image_filename).set_duration(duration)\n",
    "\n",
    "# Criar clipe de texto\n",
    "txt_clip = TextClip(\n",
    "    description, fontsize=24, color=\"white\", bg_color=\"black\", size=(None, None)\n",
    ")\n",
    "txt_clip = txt_clip.set_duration(duration).set_position((\"center\", \"bottom\"))\n",
    "\n",
    "# Ajustar o tamanho do fundo com base no texto\n",
    "text_size = txt_clip.size\n",
    "background_clip = (\n",
    "    ColorClip(size=(text_size[0] + 20, text_size[1] + 10), color=(0, 0, 0))\n",
    "    .set_duration(duration)\n",
    "    .set_opacity(0.5)\n",
    "    .set_position((\"center\", \"bottom\"))\n",
    ")"
   ]
  },
  {
   "cell_type": "code",
   "execution_count": 7,
   "metadata": {},
   "outputs": [],
   "source": [
    "from moviepy.video.fx.all import (\n",
    "    fadein,\n",
    "    fadeout,\n",
    ")\n",
    "\n",
    "# Criar o clipe final combinando imagem, fundo e texto\n",
    "\n",
    "video_clip = CompositeVideoClip([img_clip, background_clip, txt_clip])\n",
    "\n",
    "# Aplicar efeitos de fade-in e fade-out\n",
    "video_clip = video_clip.fx(fadein, duration=1).fx(\n",
    "    fadeout, duration=1\n",
    ")  # 1 segundo para fade-in e fade-out"
   ]
  },
  {
   "cell_type": "code",
   "execution_count": 8,
   "metadata": {},
   "outputs": [
    {
     "name": "stdout",
     "output_type": "stream",
     "text": [
      "Moviepy - Building video video_ed68eb29f7ba4e8b81a49bc6d3af07a5.mp4.\n",
      "Moviepy - Writing video video_ed68eb29f7ba4e8b81a49bc6d3af07a5.mp4\n",
      "\n"
     ]
    },
    {
     "name": "stderr",
     "output_type": "stream",
     "text": [
      "                                                                \r"
     ]
    },
    {
     "name": "stdout",
     "output_type": "stream",
     "text": [
      "Moviepy - Done !\n",
      "Moviepy - video ready video_ed68eb29f7ba4e8b81a49bc6d3af07a5.mp4\n"
     ]
    }
   ],
   "source": [
    "tmpFile = videoFile.create_video(json_data, imageUrls)"
   ]
  },
  {
   "cell_type": "code",
   "execution_count": 9,
   "metadata": {},
   "outputs": [],
   "source": [
    "videoFile.upload_to_blob(tmpFile)"
   ]
  },
  {
   "cell_type": "code",
   "execution_count": 12,
   "metadata": {},
   "outputs": [
    {
     "data": {
      "text/plain": [
       "{'script': [{'SceneNumber': 1,\n",
       "   'Title': 'Gymnastics Training',\n",
       "   'Description': \"Rebeca Andrade and Simone Biles are training in the gym. They're wearing their leotards and are practicing their gymnastic routines on the balance beam. They encourage each other and share tips.\",\n",
       "   'Tags': ['Gymnastics', 'Training', 'Rebeca Andrade', 'Simone Biles'],\n",
       "   'VoiceOver': \"Rebeca and Simone, two of the world's top gymnasts, at the peak of their training. Their hard work and dedication shines through in every move.\",\n",
       "   'Duration': 15,\n",
       "   'QueryImage': 'Gymnastics training'},\n",
       "  {'SceneNumber': 2,\n",
       "   'Title': 'Competition Day',\n",
       "   'Description': \"It's the day of the competition. Rebeca and Simone are getting ready. They're wearing their country's colors and are warming up. The audience is cheering in anticipation.\",\n",
       "   'Tags': ['Competition', 'Gymnastics', 'Rebeca Andrade', 'Simone Biles'],\n",
       "   'VoiceOver': 'The day of the competition has arrived. The excitement in the air is palpable as Rebeca and Simone prepare to give their best.',\n",
       "   'Duration': 15,\n",
       "   'QueryImage': 'Gymnastics competition'},\n",
       "  {'SceneNumber': 3,\n",
       "   'Title': 'Victory',\n",
       "   'Description': \"Rebeca and Simone have won the competition. They're standing on the podium, medals around their necks. They're smiling and waving to the crowd. The crowd is cheering for them.\",\n",
       "   'Tags': ['Victory', 'Gymnastics', 'Rebeca Andrade', 'Simone Biles'],\n",
       "   'VoiceOver': 'Rebeca and Simone, victorious, bask in their well-deserved glory. Their perseverance and hard work have paid off.',\n",
       "   'Duration': 15,\n",
       "   'QueryImage': 'Gymnastics victory'}],\n",
       " 'video_url': 'https://wefindvideo.blob.core.windows.net/video-ai/video_ed68eb29f7ba4e8b81a49bc6d3af07a5.mp4'}"
      ]
     },
     "execution_count": 12,
     "metadata": {},
     "output_type": "execute_result"
    }
   ],
   "source": [
    "result = {\n",
    "    'script': json_data,\n",
    "    'video_url': f\"https://wefindvideo.blob.core.windows.net/video-ai/{tmpFile}\"\n",
    "}\n",
    "result"
   ]
  }
 ],
 "metadata": {
  "kernelspec": {
   "display_name": "Python 3",
   "language": "python",
   "name": "python3"
  },
  "language_info": {
   "codemirror_mode": {
    "name": "ipython",
    "version": 3
   },
   "file_extension": ".py",
   "mimetype": "text/x-python",
   "name": "python",
   "nbconvert_exporter": "python",
   "pygments_lexer": "ipython3",
   "version": "3.12.4"
  }
 },
 "nbformat": 4,
 "nbformat_minor": 2
}
