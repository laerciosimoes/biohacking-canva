{
 "cells": [
  {
   "cell_type": "code",
   "execution_count": 2,
   "metadata": {},
   "outputs": [],
   "source": [
    "import os\n",
    "from langchain_openai import ChatOpenAI\n",
    "from dotenv import load_dotenv\n",
    "from langchain_core.output_parsers import StrOutputParser\n",
    "from langchain_core.prompts import ChatPromptTemplate"
   ]
  },
  {
   "cell_type": "code",
   "execution_count": 3,
   "metadata": {},
   "outputs": [],
   "source": [
    "load_dotenv()  # take environment variables from .env.\n",
    "\n",
    "OPENAI_API_KEY = os.environ[\"OPENAI_API_KEY\"]\n",
    "unsplash_ID = os.environ[\"unsplash_ID\"]\n",
    "unsplash_Access_Key = os.environ[\"unsplash_Access_Key\"]\n",
    "unsplash_Secret_Key = os.environ[\"unsplash_Secret_Key\"]\n",
    " "
   ]
  },
  {
   "cell_type": "code",
   "execution_count": 4,
   "metadata": {},
   "outputs": [],
   "source": [
    "def getScript(typeVideo, prompt):\n",
    "    model = ChatOpenAI(model=\"gpt-4\")\n",
    "    parser = StrOutputParser()\n",
    "    system_template = \"\"\"\n",
    "    Generate a script for a {typeVideo}:\n",
    "    The should describe each scene in detail, including the setting, characters, and dialogue.\n",
    "    The result should be a json file with these fiedls:\n",
    "    - scene_number\n",
    "    - Title\n",
    "    - Description\n",
    "    - Tags\n",
    "    - VoiceOver\n",
    "    - Duration\n",
    "    - QueryImage\n",
    "    \n",
    "    The Duration should be in seconds.\n",
    "    The QueryImage should be a search term for an image that represents the scene.\n",
    "    \"\"\"\n",
    "    prompt_template = ChatPromptTemplate.from_messages(\n",
    "        [(\"system\", system_template), (\"user\", \"{text}\")]\n",
    "    )\n",
    "\n",
    "    chain = prompt_template | model | parser\n",
    "\n",
    "    result = chain.invoke({\"typeVideo\": typeVideo, \"text\": prompt})\n",
    "    return result"
   ]
  },
  {
   "cell_type": "code",
   "execution_count": 5,
   "metadata": {},
   "outputs": [
    {
     "name": "stdout",
     "output_type": "stream",
     "text": [
      "[\n",
      "    {\n",
      "        \"scene_number\": 1,\n",
      "        \"Title\": \"Intro\",\n",
      "        \"Description\": \"The video opens with a scenic view of a busy city with a voice-over introducing HPC BRASIL.\",\n",
      "        \"Tags\": [\"Cityscape\", \"Introduction\", \"HPC BRASIL\"],\n",
      "        \"VoiceOver\": \"Welcome to HPC BRASIL, where innovation and technology consulting intersect.\",\n",
      "        \"Duration\": 10,\n",
      "        \"QueryImage\": \"Busy city skyline\"\n",
      "    },\n",
      "    {\n",
      "        \"scene_number\": 2,\n",
      "        \"Title\": \"Mission Statement\",\n",
      "        \"Description\": \"The scene shifts to a conference room where a team is brainstorming. The voice-over describes the company's mission.\",\n",
      "        \"Tags\": [\"Conference Room\", \"Teamwork\", \"Mission Statement\"],\n",
      "        \"VoiceOver\": \"Our mission is to drive innovation through technology consulting. We value integrity, excellence, and collaboration in all our endeavors.\",\n",
      "        \"Duration\": 20,\n",
      "        \"QueryImage\": \"Team brainstorming\"\n",
      "    },\n",
      "    {\n",
      "        \"scene_number\": 3,\n",
      "        \"Title\": \"Expertise\",\n",
      "        \"Description\": \"The scene transitions to a montage of professionals working on various technologies. The voice-over talks about the company's expertise.\",\n",
      "        \"Tags\": [\"Technology\", \"Professionals\", \"Expertise\"],\n",
      "        \"VoiceOver\": \"Our team of seasoned professionals bring unparalleled expertise in technology consulting. We offer strategic guidance and tailored solutions to meet our clients' unique challenges.\",\n",
      "        \"Duration\": 30,\n",
      "        \"QueryImage\": \"Professionals working on technology\"\n",
      "    },\n",
      "    {\n",
      "        \"scene_number\": 4,\n",
      "        \"Title\": \"Services\",\n",
      "        \"Description\": \"The scene shows a series of clips showcasing different industries the company serves. The voice-over describes the company's services.\",\n",
      "        \"Tags\": [\"Industries\", \"Services\", \"Solutions\"],\n",
      "        \"VoiceOver\": \"We offer comprehensive services from software development, data analytics, AI, and blockchain solutions to businesses across finance, healthcare, e-commerce, and manufacturing sectors.\",\n",
      "        \"Duration\": 30,\n",
      "        \"QueryImage\": \"Various industries\"\n",
      "    },\n",
      "    {\n",
      "        \"scene_number\": 5,\n",
      "        \"Title\": \"Outro\",\n",
      "        \"Description\": \"The video ends with the company's logo and a call-to-action. The voice-over wraps up the video.\",\n",
      "        \"Tags\": [\"Logo\", \"Call-to-action\", \"Outro\"],\n",
      "        \"VoiceOver\": \"Join us at HPC BRASIL, and let us drive your business towards growth, efficiency, and competitive advantage.\",\n",
      "        \"Duration\": 10,\n",
      "        \"QueryImage\": \"Company's logo\"\n",
      "    }\n",
      "]\n"
     ]
    }
   ],
   "source": [
    "promptText = \"\"\"\n",
    "Our Mission\n",
    "At HPC BRASIL, our mission is to drive innovation through technology consulting. We believe in leveraging cutting-edge solutions to empower businesses and organizations to thrive in a rapidly evolving digital landscape. Our core values of integrity, excellence, and collaboration guide every aspect of our work, ensuring that we deliver exceptional results and build long-lasting partnerships with our clients.\n",
    "\n",
    "Our Expertise\n",
    "With a team of seasoned professionals, HPC BRASIL brings unparalleled expertise in technology consulting to the table. Our consultants possess a deep understanding of industry trends, emerging technologies, and best practices, allowing us to offer strategic guidance and implement tailored solutions that address our clients&apos; unique challenges and objectives. Whether it&apos;s software development, data analytics, AI services, or blockchain solutions, we have the knowledge and experience to drive tangible outcomes for our clients.\n",
    "\n",
    "Our Services\n",
    "HPC BRASIL offers a comprehensive suite of services designed to meet the diverse needs of businesses across various industries. From startups to enterprises, we provide end-to-end solutions in software development, big data analytics, artificial intelligence, and blockchain technology. Our expertise spans industries such as finance, healthcare, e-commerce, manufacturing, and more. No matter the sector or scale, we&apos;re committed to delivering innovative solutions that drive growth, efficiency, and competitive advantage.\n",
    "\"\"\"\n",
    "\n",
    "result = getScript(\"Video Institucional\", promptText)\n",
    "print(result)"
   ]
  }
 ],
 "metadata": {
  "kernelspec": {
   "display_name": "Python 3",
   "language": "python",
   "name": "python3"
  },
  "language_info": {
   "codemirror_mode": {
    "name": "ipython",
    "version": 3
   },
   "file_extension": ".py",
   "mimetype": "text/x-python",
   "name": "python",
   "nbconvert_exporter": "python",
   "pygments_lexer": "ipython3",
   "version": "3.12.4"
  }
 },
 "nbformat": 4,
 "nbformat_minor": 2
}
