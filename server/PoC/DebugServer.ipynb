{
 "cells": [
  {
   "cell_type": "code",
   "execution_count": 14,
   "metadata": {},
   "outputs": [],
   "source": [
    "import os\n",
    "import sys\n",
    "import json\n",
    "import time\n",
    "sys.path.append(os.path.abspath(os.path.join(os.getcwd(), \"..\")))\n",
    "\n",
    "from app import getScript\n",
    "import videoFile"
   ]
  },
  {
   "cell_type": "code",
   "execution_count": 16,
   "metadata": {},
   "outputs": [],
   "source": [
    "def get_json_data_with_retries(prompt, subject, max_retries=3):\n",
    "    for attempt in range(max_retries):\n",
    "        try:\n",
    "            response = getScript(prompt, subject)\n",
    "            json_data = json.loads(response)\n",
    "            return json_data\n",
    "        except json.JSONDecodeError as e:\n",
    "            print(f\"Attempt {attempt + 1}: Invalid JSON data received. Error: {e}\")\n",
    "        except Exception as e:\n",
    "            print(f\"Attempt {attempt + 1}: An error occurred. Error: {e}\")\n",
    "\n",
    "        # Wait for a short period before retrying\n",
    "        time.sleep(2)\n",
    "\n",
    "    raise ValueError(\"Failed to get valid JSON data after multiple attempts.\")"
   ]
  },
  {
   "cell_type": "code",
   "execution_count": 17,
   "metadata": {},
   "outputs": [
    {
     "name": "stdout",
     "output_type": "stream",
     "text": [
      "[{'SceneNumber': 1, 'Title': 'Gymnastics Training', 'Description': 'Rebeca Andrade and Simone Biles are in a brightly lit gymnastics training center. They are both wearing leotards and are preparing to start their training. They are laughing and talking to each other.', 'Tags': ['Gymnastics', 'Rebeca Andrade', 'Simone Biles', 'Training'], 'VoiceOver': 'World renowned gymnasts, Rebeca Andrade and Simone Biles, preparing for their rigorous training session. Their bond and laughter echoing in the room.', 'Duration': 15, 'QueryImage': 'Gymnastics training center'}, {'SceneNumber': 2, 'Title': 'Intense Training', 'Description': 'Both gymnasts are now doing their routines. Rebeca is on the balance beam, showcasing her skills. Simone Biles is on the uneven bars, demonstrating her strength and precision.', 'Tags': ['Gymnastics', 'Rebeca Andrade', 'Simone Biles', 'Balance Beam', 'Uneven Bars'], 'VoiceOver': 'Rebeca and Simone, each in their own element, showcasing their unmatched skills and strength.', 'Duration': 20, 'QueryImage': 'Gymnastics balance beam and uneven bars'}, {'SceneNumber': 3, 'Title': 'Encouragement', 'Description': 'Simone finishes her routine and cheers on Rebeca who is still on the balance beam. There is a sense of camaraderie and mutual respect between them.', 'Tags': ['Gymnastics', 'Rebeca Andrade', 'Simone Biles', 'Encouragement'], 'VoiceOver': 'Simone finishes her act, her face glowing with pride as she cheers on for her friend, Rebeca. An embodiment of true sportsmanship.', 'Duration': 10, 'QueryImage': 'Gymnast cheering'}, {'SceneNumber': 4, 'Title': 'Celebration', 'Description': 'Rebeca finishes her routine and they both celebrate. They high five each other and share a hug. The scene ends with them leaving the training center, laughing and chatting.', 'Tags': ['Gymnastics', 'Rebeca Andrade', 'Simone Biles', 'Celebration'], 'VoiceOver': \"With the day's training over, the two champions share a moment of celebration, their laughter and camaraderie lighting up the space as they leave the center.\", 'Duration': 15, 'QueryImage': 'Gymnasts celebrating'}]\n"
     ]
    }
   ],
   "source": [
    "# Example usage\n",
    "try:\n",
    "    json_data = get_json_data_with_retries(\"Reels\", \"Rebeca Andrade e Simone Biles\")\n",
    "    print(json_data)\n",
    "except ValueError as e:\n",
    "    print(e)"
   ]
  },
  {
   "cell_type": "code",
   "execution_count": 19,
   "metadata": {},
   "outputs": [
    {
     "name": "stdout",
     "output_type": "stream",
     "text": [
      "Gymnastics training center\n",
      "Gymnastics balance beam and uneven bars\n",
      "Gymnast cheering\n",
      "Gymnasts celebrating\n"
     ]
    }
   ],
   "source": [
    "for item in json_data:\n",
    "    print(item.get(\"QueryImage\"))"
   ]
  },
  {
   "cell_type": "code",
   "execution_count": 13,
   "metadata": {},
   "outputs": [
    {
     "data": {
      "text/plain": [
       "['https://images.unsplash.com/photo-1485727749690-d091e8284ef3?crop=entropy&cs=tinysrgb&fit=max&fm=jpg&ixid=M3w2MzkwNzZ8MHwxfHNlYXJjaHwxfHxHeW1uYXN0aWNzJTIwdHJhaW5pbmd8ZW58MHx8fHwxNzIyNzg3NTg1fDA&ixlib=rb-4.0.3&q=80&w=1080',\n",
       " 'https://images.unsplash.com/photo-1505619730259-b1288d154955?crop=entropy&cs=tinysrgb&fit=max&fm=jpg&ixid=M3w2MzkwNzZ8MHwxfHNlYXJjaHwxfHxHeW1uYXN0aWNzJTIwY29tcGV0aXRpb258ZW58MHx8fHwxNzIyNzgxNDY0fDA&ixlib=rb-4.0.3&q=80&w=1080',\n",
       " 'https://images.unsplash.com/photo-1505619730259-b1288d154955?crop=entropy&cs=tinysrgb&fit=max&fm=jpg&ixid=M3w2MzkwNzZ8MHwxfHNlYXJjaHwxfHxHeW1uYXN0aWNzJTIwdmljdG9yeXxlbnwwfHx8fDE3MjI3ODc1ODV8MA&ixlib=rb-4.0.3&q=80&w=1080']"
      ]
     },
     "execution_count": 13,
     "metadata": {},
     "output_type": "execute_result"
    }
   ],
   "source": [
    "imageUrls = videoFile.getVideoImages(json_data)\n",
    "imageUrls"
   ]
  }
 ],
 "metadata": {
  "kernelspec": {
   "display_name": "Python 3",
   "language": "python",
   "name": "python3"
  },
  "language_info": {
   "codemirror_mode": {
    "name": "ipython",
    "version": 3
   },
   "file_extension": ".py",
   "mimetype": "text/x-python",
   "name": "python",
   "nbconvert_exporter": "python",
   "pygments_lexer": "ipython3",
   "version": "3.12.4"
  }
 },
 "nbformat": 4,
 "nbformat_minor": 2
}
