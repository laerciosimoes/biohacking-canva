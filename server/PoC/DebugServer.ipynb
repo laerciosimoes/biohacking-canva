{
 "cells": [
  {
   "cell_type": "code",
   "execution_count": 37,
   "metadata": {},
   "outputs": [],
   "source": [
    "import os\n",
    "import sys\n",
    "import json\n",
    "import time\n",
    "sys.path.append(os.path.abspath(os.path.join(os.getcwd(), \"..\")))\n",
    "\n",
    "from app import getScript\n",
    "import videoFile"
   ]
  },
  {
   "cell_type": "code",
   "execution_count": 24,
   "metadata": {},
   "outputs": [],
   "source": [
    "result = getScript(\"Reels\", \"Rebeca Andrade e Simone Biles\")"
   ]
  },
  {
   "cell_type": "code",
   "execution_count": 25,
   "metadata": {},
   "outputs": [
    {
     "data": {
      "text/plain": [
       "'{\\n    \"scene_number\": 1,\\n    \"Title\": \"The Meeting\",\\n    \"Description\": \"Rebeca Andrade and Simone Biles meet for the first time in the gymnasium. They greet each other warmly, showing mutual respect and admiration.\",\\n    \"Tags\": [\"Rebeca Andrade\", \"Simone Biles\", \"gymnastics\", \"meeting\"],\\n    \"VoiceOver\": \"Two of the world\\'s finest gymnasts, Rebeca Andrade and Simone Biles, meet in the gymnasium. Their greeting is warm, a testament to their mutual respect and admiration.\",\\n    \"Duration\": 10,\\n    \"QueryImage\": \"gymnasts meeting\"\\n},\\n{\\n    \"scene_number\": 2,\\n    \"Title\": \"The Training\",\\n    \"Description\": \"Rebeca Andrade and Simone Biles are seen training together. Their strength and grace are evident as they execute their routines flawlessly.\",\\n    \"Tags\": [\"Rebeca Andrade\", \"Simone Biles\", \"gymnastics\", \"training\"],\\n    \"VoiceOver\": \"Rebeca and Simone begin their training. Their strength and grace are a sight to behold as they execute their routines with stunning precision.\",\\n    \"Duration\": 15,\\n    \"QueryImage\": \"gymnasts training\"\\n},\\n{\\n    \"scene_number\": 3,\\n    \"Title\": \"The Competition\",\\n    \"Description\": \"Rebeca and Simone compete against each other. The tension is palpable as they perform their routines, each aiming for gold.\",\\n    \"Tags\": [\"Rebeca Andrade\", \"Simone Biles\", \"gymnastics\", \"competition\"],\\n    \"VoiceOver\": \"The competition begins. Rebeca and Simone perform their routines, their focus and determination clear as they aim for gold.\",\\n    \"Duration\": 20,\\n    \"QueryImage\": \"gymnastics competition\"\\n},\\n{\\n    \"scene_number\": 4,\\n    \"Title\": \"The Victory\",\\n    \"Description\": \"The result is announced. Rebeca and Simone hug, their faces a mix of relief and joy. They stand on the podium, basking in their well-deserved victory.\",\\n    \"Tags\": [\"Rebeca Andrade\", \"Simone Biles\", \"gymnastics\", \"victory\"],\\n    \"VoiceOver\": \"The result is announced. Relief and joy wash over Rebeca and Simone as they hug, their well-deserved victory a testament to their hard work and skill.\",\\n    \"Duration\": 15,\\n    \"QueryImage\": \"gymnasts victory\"\\n}\\n'"
      ]
     },
     "execution_count": 25,
     "metadata": {},
     "output_type": "execute_result"
    }
   ],
   "source": [
    "result"
   ]
  },
  {
   "cell_type": "code",
   "execution_count": 27,
   "metadata": {},
   "outputs": [],
   "source": [
    "def get_json_data_with_retries(prompt, subject, max_retries=3):\n",
    "    for attempt in range(max_retries):\n",
    "        try:\n",
    "            response = getScript(prompt, subject)\n",
    "            json_data = json.loads(response)\n",
    "            return json_data\n",
    "        except json.JSONDecodeError as e:\n",
    "            print(f\"Attempt {attempt + 1}: Invalid JSON data received. Error: {e}\")\n",
    "        except Exception as e:\n",
    "            print(f\"Attempt {attempt + 1}: An error occurred. Error: {e}\")\n",
    "\n",
    "        # Wait for a short period before retrying\n",
    "        time.sleep(2)\n",
    "\n",
    "    raise ValueError(\"Failed to get valid JSON data after multiple attempts.\")"
   ]
  },
  {
   "cell_type": "code",
   "execution_count": 28,
   "metadata": {},
   "outputs": [
    {
     "name": "stdout",
     "output_type": "stream",
     "text": [
      "{'Scene_1': {'scene_number': 1, 'Title': 'Introduction of Rebeca Andrade', 'Description': \"Rebeca Andrade, a Brazilian gymnast, is introduced. She's seen at the gym, practicing on the balance beam. She looks focused and determined.\", 'Tags': ['Gymnastics', 'Rebeca Andrade', 'Brazil'], 'VoiceOver': \"Meet Rebeca Andrade, the Brazilian powerhouse who's taking the gymnastics world by storm.\", 'Duration': 15, 'QueryImage': 'Rebeca Andrade'}, 'Scene_2': {'scene_number': 2, 'Title': \"Highlighting Rebeca's Achievements\", 'Description': \"A montage of Rebeca's achievements. Clips of her winning medals, standing on the podium, and waving to the crowd are shown.\", 'Tags': ['Rebeca Andrade', 'Medals', 'Success'], 'VoiceOver': \"With an Olympic Silver and a Gold under her belt, she's making her country proud.\", 'Duration': 15, 'QueryImage': 'Rebeca Andrade medals'}, 'Scene_3': {'scene_number': 3, 'Title': 'Introduction of Simone Biles', 'Description': \"Simone Biles, an American gymnast, is introduced. She's seen performing a floor routine, displaying her strength and agility.\", 'Tags': ['Gymnastics', 'Simone Biles', 'USA'], 'VoiceOver': \"Next, we have Simone Biles, the American sensation who's redefining what's possible in gymnastics.\", 'Duration': 15, 'QueryImage': 'Simone Biles'}, 'Scene_4': {'scene_number': 4, 'Title': \"Highlighting Simone's Achievements\", 'Description': \"A montage of Simone's victories. Clips of her with her medals, celebrating with her team, and acknowledging her fans are shown.\", 'Tags': ['Simone Biles', 'Medals', 'Success'], 'VoiceOver': 'With 19 Olympic and World Championship medals, Simone is one of the most decorated gymnasts of all time.', 'Duration': 15, 'QueryImage': 'Simone Biles medals'}, 'Scene_5': {'scene_number': 5, 'Title': 'Combining Their Strengths', 'Description': 'Final scene shows Rebeca and Simone together, practicing and supporting each other. Their camaraderie and mutual respect are evident.', 'Tags': ['Rebeca Andrade', 'Simone Biles', 'Friendship'], 'VoiceOver': \"Together, they're not just pushing boundaries, they're redrawing them. Here's to these two incredible athletes.\", 'Duration': 20, 'QueryImage': 'Rebeca Andrade and Simone Biles'}}\n"
     ]
    }
   ],
   "source": [
    "# Example usage\n",
    "try:\n",
    "    json_data = get_json_data_with_retries(\"Reels\", \"Rebeca Andrade e Simone Biles\")\n",
    "    print(json_data)\n",
    "except ValueError as e:\n",
    "    print(e)"
   ]
  },
  {
   "cell_type": "code",
   "execution_count": 38,
   "metadata": {},
   "outputs": [
    {
     "ename": "TypeError",
     "evalue": "string indices must be integers, not 'str'",
     "output_type": "error",
     "traceback": [
      "\u001b[1;31m---------------------------------------------------------------------------\u001b[0m",
      "\u001b[1;31mTypeError\u001b[0m                                 Traceback (most recent call last)",
      "Cell \u001b[1;32mIn[38], line 1\u001b[0m\n\u001b[1;32m----> 1\u001b[0m video_file \u001b[38;5;241m=\u001b[39m \u001b[43mvideoFile\u001b[49m\u001b[38;5;241;43m.\u001b[39;49m\u001b[43mgetVideoFile\u001b[49m\u001b[43m(\u001b[49m\u001b[43mjson_data\u001b[49m\u001b[43m)\u001b[49m\n",
      "File \u001b[1;32me:\\projects\\WeFindVideo\\wefindvideo-canva\\server\\videoFile.py:7\u001b[0m, in \u001b[0;36mgetVideoFile\u001b[1;34m(jsonData)\u001b[0m\n\u001b[0;32m      5\u001b[0m imageUrls \u001b[38;5;241m=\u001b[39m []\n\u001b[0;32m      6\u001b[0m \u001b[38;5;28;01mfor\u001b[39;00m item \u001b[38;5;129;01min\u001b[39;00m jsonData:\n\u001b[1;32m----> 7\u001b[0m     imageUrls\u001b[38;5;241m.\u001b[39mappend(queryImages\u001b[38;5;241m.\u001b[39mFindImages(\u001b[43mitem\u001b[49m\u001b[43m[\u001b[49m\u001b[38;5;124;43m\"\u001b[39;49m\u001b[38;5;124;43mQueryImage\u001b[39;49m\u001b[38;5;124;43m\"\u001b[39;49m\u001b[43m]\u001b[49m))\n\u001b[0;32m      9\u001b[0m \u001b[38;5;28;01mreturn\u001b[39;00m \u001b[38;5;124m\"\u001b[39m\u001b[38;5;124m\"\u001b[39m\n",
      "\u001b[1;31mTypeError\u001b[0m: string indices must be integers, not 'str'"
     ]
    }
   ],
   "source": [
    "video_file = videoFile.getVideoFile(json_data)\n"
   ]
  }
 ],
 "metadata": {
  "kernelspec": {
   "display_name": "Python 3",
   "language": "python",
   "name": "python3"
  },
  "language_info": {
   "codemirror_mode": {
    "name": "ipython",
    "version": 3
   },
   "file_extension": ".py",
   "mimetype": "text/x-python",
   "name": "python",
   "nbconvert_exporter": "python",
   "pygments_lexer": "ipython3",
   "version": "3.12.4"
  }
 },
 "nbformat": 4,
 "nbformat_minor": 2
}
