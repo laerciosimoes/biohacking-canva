{
 "cells": [
  {
   "cell_type": "code",
   "execution_count": null,
   "id": "09534c27-63f1-4303-adfe-f092dae5e030",
   "metadata": {},
   "outputs": [],
   "source": [
    "import os\n",
    "import requests\n",
    "from moviepy.editor import (\n",
    "    ImageClip,\n",
    "    TextClip,\n",
    "    CompositeVideoClip,\n",
    "    concatenate_videoclips,\n",
    ")\n",
    "from IPython.display import Video, display\n"
   ]
  },
  {
   "cell_type": "code",
   "execution_count": null,
   "id": "14cb6610",
   "metadata": {},
   "outputs": [],
   "source": [
    "! pip install -r ./requirements.txt"
   ]
  },
  {
   "cell_type": "code",
   "execution_count": null,
   "id": "8b56ba84-5933-400f-85bb-83abc5ed22e5",
   "metadata": {},
   "outputs": [],
   "source": [
    "# Função para baixar imagens\n",
    "def download_image(url, filename):\n",
    "    response = requests.get(url)\n",
    "    with open(filename, 'wb') as f:\n",
    "        f.write(response.content)\n",
    "\n",
    "# Sample scene images\n",
    "scene_images = [\n",
    "    \"https://images.unsplash.com/photo-1593642632559-0c6d3fc62b89?crop=entropy&cs=tinysrgb&fit=max&fm=jpg&ixid=M3w2MzkwNzZ8MHwxfHNlYXJjaHwxfHxtb2Rlcm4lMjB0ZWNobm9sb2d5JTIwb2ZmaWNlfGVufDB8fHx8MTcyMjU5Njk3MHww&ixlib=rb-4.0.3&q=80&w=1080\",\n",
    "    \"https://images.unsplash.com/photo-1521737604893-d14cc237f11d?crop=entropy&cs=tinysrgb&fit=max&fm=jpg&ixid=M3w2MzkwNzZ8MHwxfHNlYXJjaHwxfHxvZmZpY2UlMjBlbXBsb3llZXMlMjB3b3JraW5nJTIwdG9nZXRoZXJ8ZW58MHx8fHwxNzIyNTk2OTcwfDA&ixlib=rb-4.0.3&q=80&w=1080\",\n",
    "    \"https://images.unsplash.com/photo-1486312338219-ce68d2c6f44d?crop=entropy&cs=tinysrgb&fit=max&fm=jpg&ixid=M3w2MzkwNzZ8MHwxfHNlYXJjaHwxfHx0ZWNob2xvZ3klMjBjb25zdWx0YW50cyUyMG1lZXRpbmd8ZW58MHx8fHwxNzIyNTk2OTcxfDA&ixlib=rb-4.0.3&q=80&w=1080\",\n",
    "    \"https://images.unsplash.com/photo-1680745840784-318be3708374?crop=entropy&cs=tinysrgb&fit=max&fm=jpg&ixid=M3w2MzkwNzZ8MHwxfHNlYXJjaHwxfHxkaXZlcnNlJTIwaW5kdXN0cnklMjB2aXN1YWxzfGVufDB8fHx8MTcyMjU5NjgwNnww&ixlib=rb-4.0.3&q=80&w=1080\",\n",
    "]\n",
    "\n",
    "# Example JSON data (you can customize this)\n",
    "json_data = [\n",
    "    {\"description\": \"Modern technology office\", \"duration\": 3},\n",
    "    {\"description\": \"Office employees working together\", \"duration\": 3},\n",
    "    {\"description\": \"Consultants meeting with clients\", \"duration\": 3},\n",
    "    {\"description\": \"Diverse industry visuals\", \"duration\": 3},\n",
    "]\n",
    "\n"
   ]
  },
  {
   "cell_type": "code",
   "execution_count": null,
   "id": "e14231b5-6d31-4d5d-8978-b5034b83d9bd",
   "metadata": {},
   "outputs": [],
   "source": [
    "def create_video(json_data, scene_images, output_path=\"video.mp4\"):\n",
    "    clips = []\n",
    "    \n",
    "    # Baixar imagens\n",
    "    image_files = []\n",
    "    for i, image_url in enumerate(scene_images):\n",
    "        image_filename = f\"image_{i}.jpg\"\n",
    "        download_image(image_url, image_filename)\n",
    "        image_files.append(image_filename)\n",
    "    \n",
    "    # Criar vídeo\n",
    "    for scene, image_file in zip(json_data, image_files):\n",
    "        duration = scene.get(\"duration\")\n",
    "        if duration is None:\n",
    "            raise ValueError(\"A duração não pode ser None\")\n",
    "        duration = int(duration)\n",
    "        \n",
    "        description = scene.get(\"description\", \"\")\n",
    "        \n",
    "        img_clip = ImageClip(image_file).set_duration(duration)\n",
    "        txt_clip = (\n",
    "            TextClip(description, fontsize=24, color=\"white\")\n",
    "            .set_position(\"bottom\")\n",
    "            .set_duration(duration)\n",
    "        )\n",
    "        video_clip = CompositeVideoClip([img_clip, txt_clip])\n",
    "        clips.append(video_clip)\n",
    "    \n",
    "    final_clip = concatenate_videoclips(clips, method=\"compose\")\n",
    "    final_clip.write_videofile(output_path, fps=24)"
   ]
  },
  {
   "cell_type": "code",
   "execution_count": null,
   "id": "a58b619c-34fd-4ff7-913b-6675aba4d716",
   "metadata": {},
   "outputs": [],
   "source": [
    "! pip install -r requirements.txt"
   ]
  },
  {
   "cell_type": "code",
   "execution_count": null,
   "id": "8ec61c25-50b1-436d-a38d-6d9129a65ae2",
   "metadata": {},
   "outputs": [],
   "source": [
    "! pip install ipykernel\n"
   ]
  },
  {
   "cell_type": "code",
   "execution_count": null,
   "id": "c291dc99-fa95-41fe-8b69-13c1e3085599",
   "metadata": {},
   "outputs": [],
   "source": [
    "! pip install jupyter\n",
    "\n"
   ]
  },
  {
   "cell_type": "code",
   "execution_count": 26,
   "id": "88693b78-d257-4ed3-a198-e4207e24a913",
   "metadata": {},
   "outputs": [
    {
     "ename": "NameError",
     "evalue": "name 'requests' is not defined",
     "output_type": "error",
     "traceback": [
      "\u001b[0;31m---------------------------------------------------------------------------\u001b[0m",
      "\u001b[0;31mNameError\u001b[0m                                 Traceback (most recent call last)",
      "Cell \u001b[0;32mIn[26], line 3\u001b[0m\n\u001b[1;32m      1\u001b[0m \u001b[38;5;66;03m# Crie o vídeo\u001b[39;00m\n\u001b[1;32m      2\u001b[0m video_output_path \u001b[38;5;241m=\u001b[39m \u001b[38;5;124m\"\u001b[39m\u001b[38;5;124mvideo.mp4\u001b[39m\u001b[38;5;124m\"\u001b[39m\n\u001b[0;32m----> 3\u001b[0m \u001b[43mcreate_video\u001b[49m\u001b[43m(\u001b[49m\u001b[43mjson_data\u001b[49m\u001b[43m,\u001b[49m\u001b[43m \u001b[49m\u001b[43mscene_images\u001b[49m\u001b[43m,\u001b[49m\u001b[43m \u001b[49m\u001b[43mvideo_output_path\u001b[49m\u001b[43m)\u001b[49m\n\u001b[1;32m      5\u001b[0m \u001b[38;5;66;03m# Exiba o vídeo no Jupyter Notebook\u001b[39;00m\n\u001b[1;32m      6\u001b[0m display(Video(video_output_path, embed\u001b[38;5;241m=\u001b[39m\u001b[38;5;28;01mTrue\u001b[39;00m))\n",
      "Cell \u001b[0;32mIn[23], line 8\u001b[0m, in \u001b[0;36mcreate_video\u001b[0;34m(json_data, scene_images, output_path)\u001b[0m\n\u001b[1;32m      6\u001b[0m \u001b[38;5;28;01mfor\u001b[39;00m i, image_url \u001b[38;5;129;01min\u001b[39;00m \u001b[38;5;28menumerate\u001b[39m(scene_images):\n\u001b[1;32m      7\u001b[0m     image_filename \u001b[38;5;241m=\u001b[39m \u001b[38;5;124mf\u001b[39m\u001b[38;5;124m\"\u001b[39m\u001b[38;5;124mimage_\u001b[39m\u001b[38;5;132;01m{\u001b[39;00mi\u001b[38;5;132;01m}\u001b[39;00m\u001b[38;5;124m.jpg\u001b[39m\u001b[38;5;124m\"\u001b[39m\n\u001b[0;32m----> 8\u001b[0m     \u001b[43mdownload_image\u001b[49m\u001b[43m(\u001b[49m\u001b[43mimage_url\u001b[49m\u001b[43m,\u001b[49m\u001b[43m \u001b[49m\u001b[43mimage_filename\u001b[49m\u001b[43m)\u001b[49m\n\u001b[1;32m      9\u001b[0m     image_files\u001b[38;5;241m.\u001b[39mappend(image_filename)\n\u001b[1;32m     11\u001b[0m \u001b[38;5;66;03m# Criar vídeo\u001b[39;00m\n",
      "Cell \u001b[0;32mIn[24], line 3\u001b[0m, in \u001b[0;36mdownload_image\u001b[0;34m(url, filename)\u001b[0m\n\u001b[1;32m      2\u001b[0m \u001b[38;5;28;01mdef\u001b[39;00m \u001b[38;5;21mdownload_image\u001b[39m(url, filename):\n\u001b[0;32m----> 3\u001b[0m     response \u001b[38;5;241m=\u001b[39m \u001b[43mrequests\u001b[49m\u001b[38;5;241m.\u001b[39mget(url)\n\u001b[1;32m      4\u001b[0m     \u001b[38;5;28;01mwith\u001b[39;00m \u001b[38;5;28mopen\u001b[39m(filename, \u001b[38;5;124m'\u001b[39m\u001b[38;5;124mwb\u001b[39m\u001b[38;5;124m'\u001b[39m) \u001b[38;5;28;01mas\u001b[39;00m f:\n\u001b[1;32m      5\u001b[0m         f\u001b[38;5;241m.\u001b[39mwrite(response\u001b[38;5;241m.\u001b[39mcontent)\n",
      "\u001b[0;31mNameError\u001b[0m: name 'requests' is not defined"
     ]
    }
   ],
   "source": [
    "# Crie o vídeo\n",
    "video_output_path = \"video.mp4\"\n",
    "create_video(json_data, scene_images, video_output_path)\n",
    "\n",
    "# Exiba o vídeo no Jupyter Notebook\n",
    "display(Video(video_output_path, embed=True))"
   ]
  },
  {
   "cell_type": "code",
   "execution_count": null,
   "id": "f74bbeca-c035-4095-8f3c-6f189017af11",
   "metadata": {},
   "outputs": [],
   "source": [
    "! pip install requests"
   ]
  }
 ],
 "metadata": {
  "kernelspec": {
   "display_name": "Python 3 (ipykernel)",
   "language": "python",
   "name": "python3"
  },
  "language_info": {
   "codemirror_mode": {
    "name": "ipython",
    "version": 3
   },
   "file_extension": ".py",
   "mimetype": "text/x-python",
   "name": "python",
   "nbconvert_exporter": "python",
   "pygments_lexer": "ipython3",
   "version": "3.12.3"
  }
 },
 "nbformat": 4,
 "nbformat_minor": 5
}
