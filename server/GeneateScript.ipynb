{
 "cells": [
  {
   "cell_type": "code",
   "execution_count": 5,
   "metadata": {},
   "outputs": [],
   "source": [
    "import os\n",
    "from langchain_openai import ChatOpenAI\n",
    "from dotenv import load_dotenv\n",
    "from langchain_core.output_parsers import StrOutputParser\n",
    "from langchain_core.prompts import ChatPromptTemplate"
   ]
  },
  {
   "cell_type": "code",
   "execution_count": 2,
   "metadata": {},
   "outputs": [],
   "source": [
    "load_dotenv()  # take environment variables from .env.\n",
    "\n",
    "OPENAI_API_KEY = os.environ[\"OPENAI_API_KEY\"]\n",
    "unsplash_ID = os.environ[\"unsplash_ID\"]\n",
    "unsplash_Access_Key = os.environ[\"unsplash_Access_Key\"]\n",
    "unsplash_Secret_Key = os.environ[\"unsplash_Secret_Key\"]\n",
    " "
   ]
  },
  {
   "cell_type": "code",
   "execution_count": 6,
   "metadata": {},
   "outputs": [],
   "source": [
    "def getScript(typeVideo, prompt):\n",
    "    model = ChatOpenAI(model=\"gpt-4\")\n",
    "    parser = StrOutputParser()\n",
    "    system_template = \"\"\"\n",
    "    Generate a script for a {typeVideo}:\n",
    "    The should describe each scene in detail, including the setting, characters, and dialogue.\n",
    "    The result should be a json file with these fiedls:\n",
    "    - scene_number\n",
    "    - Title\n",
    "    - Description\n",
    "    - Tags\n",
    "    - VoiceOver\n",
    "    - Duration\n",
    "    - QueryImage\n",
    "    \n",
    "    The Duration should be in seconds.\n",
    "    The QueryImage should be a search term for an image that represents the scene.\n",
    "    \"\"\"\n",
    "    prompt_template = ChatPromptTemplate.from_messages(\n",
    "        [(\"system\", system_template), (\"user\", \"{text}\")]\n",
    "    )\n",
    "\n",
    "    chain = prompt_template | model | parser\n",
    "\n",
    "    result = chain.invoke({\"typeVideo\": typeVideo, \"text\": prompt})\n",
    "    return result"
   ]
  },
  {
   "cell_type": "code",
   "execution_count": 7,
   "metadata": {},
   "outputs": [
    {
     "name": "stdout",
     "output_type": "stream",
     "text": [
      "[\n",
      "    {\n",
      "        \"scene_number\": 1,\n",
      "        \"Title\": \"Introduction\",\n",
      "        \"Description\": \"The scene opens with a wide-shot view of a modern office space, filled with employees working on their computers. The HPC BRASIL logo is prominently displayed on the wall.\",\n",
      "        \"Tags\": [\"office\", \"workplace\", \"employees\", \"branding\"],\n",
      "        \"VoiceOver\": \"At HPC BRASIL, our mission is to drive innovation through technology consulting.\",\n",
      "        \"Duration\": 10,\n",
      "        \"QueryImage\": \"modern technology office\"\n",
      "    },\n",
      "    {\n",
      "        \"scene_number\": 2,\n",
      "        \"Title\": \"Our Mission\",\n",
      "        \"Description\": \"The camera zooms in on the mission statement framed on the office wall. The scene transitions to various employees working diligently and collaboratively.\",\n",
      "        \"Tags\": [\"mission statement\", \"employee collaboration\", \"workspace\"],\n",
      "        \"VoiceOver\": \"We believe in leveraging cutting-edge solutions to empower businesses and organizations to thrive in a rapidly evolving digital landscape.\",\n",
      "        \"Duration\": 12,\n",
      "        \"QueryImage\": \"office employees working together\"\n",
      "    },\n",
      "    {\n",
      "        \"scene_number\": 3,\n",
      "        \"Title\": \"Our Expertise\",\n",
      "        \"Description\": \"The scene shifts to a round table discussion with senior consultants. They are seen brainstorming, discussing charts, and working on laptops.\",\n",
      "        \"Tags\": [\"consultants\", \"meeting\", \"brainstorming\"],\n",
      "        \"VoiceOver\": \"Our consultants possess a deep understanding of industry trends, emerging technologies, and best practices, allowing us to offer strategic guidance and implement tailored solutions that address our clients' unique challenges and objectives.\",\n",
      "        \"Duration\": 15,\n",
      "        \"QueryImage\": \"technology consultants meeting\"\n",
      "    },\n",
      "    {\n",
      "        \"scene_number\": 4,\n",
      "        \"Title\": \"Our Services\",\n",
      "        \"Description\": \"The scene transitions to various visuals representing different industries - a busy hospital, a bustling factory, a lively startup office, and a financial institution. Overlay graphics show the different services provided by HPC BRASIL.\",\n",
      "        \"Tags\": [\"industry visuals\", \"services\", \"hospital\", \"factory\", \"startup\", \"finance\"],\n",
      "        \"VoiceOver\": \"From startups to enterprises, we provide end-to-end solutions in software development, big data analytics, artificial intelligence, and blockchain technology. Our expertise spans industries such as finance, healthcare, e-commerce, manufacturing, and more.\",\n",
      "        \"Duration\": 20,\n",
      "        \"QueryImage\": \"diverse industry visuals\"\n",
      "    }\n",
      "]\n"
     ]
    }
   ],
   "source": [
    "promptText = \"\"\"\n",
    "Our Mission\n",
    "At HPC BRASIL, our mission is to drive innovation through technology consulting. We believe in leveraging cutting-edge solutions to empower businesses and organizations to thrive in a rapidly evolving digital landscape. Our core values of integrity, excellence, and collaboration guide every aspect of our work, ensuring that we deliver exceptional results and build long-lasting partnerships with our clients.\n",
    "\n",
    "Our Expertise\n",
    "With a team of seasoned professionals, HPC BRASIL brings unparalleled expertise in technology consulting to the table. Our consultants possess a deep understanding of industry trends, emerging technologies, and best practices, allowing us to offer strategic guidance and implement tailored solutions that address our clients&apos; unique challenges and objectives. Whether it&apos;s software development, data analytics, AI services, or blockchain solutions, we have the knowledge and experience to drive tangible outcomes for our clients.\n",
    "\n",
    "Our Services\n",
    "HPC BRASIL offers a comprehensive suite of services designed to meet the diverse needs of businesses across various industries. From startups to enterprises, we provide end-to-end solutions in software development, big data analytics, artificial intelligence, and blockchain technology. Our expertise spans industries such as finance, healthcare, e-commerce, manufacturing, and more. No matter the sector or scale, we&apos;re committed to delivering innovative solutions that drive growth, efficiency, and competitive advantage.\n",
    "\"\"\"\n",
    "\n",
    "result = getScript(\"Video Institucional\", promptText)\n",
    "print(result)"
   ]
  }
 ],
 "metadata": {
  "kernelspec": {
   "display_name": "Python 3",
   "language": "python",
   "name": "python3"
  },
  "language_info": {
   "codemirror_mode": {
    "name": "ipython",
    "version": 3
   },
   "file_extension": ".py",
   "mimetype": "text/x-python",
   "name": "python",
   "nbconvert_exporter": "python",
   "pygments_lexer": "ipython3",
   "version": "3.12.4"
  }
 },
 "nbformat": 4,
 "nbformat_minor": 2
}
