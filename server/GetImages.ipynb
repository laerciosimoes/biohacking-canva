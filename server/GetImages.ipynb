{
 "cells": [
  {
   "cell_type": "code",
   "execution_count": 1,
   "metadata": {},
   "outputs": [
    {
     "name": "stdout",
     "output_type": "stream",
     "text": [
      "Defaulting to user installation because normal site-packages is not writeable\n",
      "Requirement already satisfied: python-dotenv in c:\\users\\usuario\\appdata\\local\\packages\\pythonsoftwarefoundation.python.3.12_qbz5n2kfra8p0\\localcache\\local-packages\\python312\\site-packages (from -r requirements.txt (line 1)) (1.0.1)\n",
      "Requirement already satisfied: langchain_openai in c:\\users\\usuario\\appdata\\local\\packages\\pythonsoftwarefoundation.python.3.12_qbz5n2kfra8p0\\localcache\\local-packages\\python312\\site-packages (from -r requirements.txt (line 2)) (0.1.19)\n",
      "Requirement already satisfied: langchain_core in c:\\users\\usuario\\appdata\\local\\packages\\pythonsoftwarefoundation.python.3.12_qbz5n2kfra8p0\\localcache\\local-packages\\python312\\site-packages (from -r requirements.txt (line 3)) (0.2.26)\n",
      "Requirement already satisfied: openai<2.0.0,>=1.32.0 in c:\\users\\usuario\\appdata\\local\\packages\\pythonsoftwarefoundation.python.3.12_qbz5n2kfra8p0\\localcache\\local-packages\\python312\\site-packages (from langchain_openai->-r requirements.txt (line 2)) (1.37.1)\n",
      "Requirement already satisfied: tiktoken<1,>=0.7 in c:\\users\\usuario\\appdata\\local\\packages\\pythonsoftwarefoundation.python.3.12_qbz5n2kfra8p0\\localcache\\local-packages\\python312\\site-packages (from langchain_openai->-r requirements.txt (line 2)) (0.7.0)\n",
      "Requirement already satisfied: PyYAML>=5.3 in c:\\users\\usuario\\appdata\\local\\packages\\pythonsoftwarefoundation.python.3.12_qbz5n2kfra8p0\\localcache\\local-packages\\python312\\site-packages (from langchain_core->-r requirements.txt (line 3)) (6.0.1)\n",
      "Requirement already satisfied: jsonpatch<2.0,>=1.33 in c:\\users\\usuario\\appdata\\local\\packages\\pythonsoftwarefoundation.python.3.12_qbz5n2kfra8p0\\localcache\\local-packages\\python312\\site-packages (from langchain_core->-r requirements.txt (line 3)) (1.33)\n",
      "Requirement already satisfied: langsmith<0.2.0,>=0.1.75 in c:\\users\\usuario\\appdata\\local\\packages\\pythonsoftwarefoundation.python.3.12_qbz5n2kfra8p0\\localcache\\local-packages\\python312\\site-packages (from langchain_core->-r requirements.txt (line 3)) (0.1.94)\n",
      "Requirement already satisfied: packaging<25,>=23.2 in c:\\users\\usuario\\appdata\\local\\packages\\pythonsoftwarefoundation.python.3.12_qbz5n2kfra8p0\\localcache\\local-packages\\python312\\site-packages (from langchain_core->-r requirements.txt (line 3)) (24.1)\n",
      "Requirement already satisfied: pydantic<3.0.0,>=2.7.4 in c:\\users\\usuario\\appdata\\local\\packages\\pythonsoftwarefoundation.python.3.12_qbz5n2kfra8p0\\localcache\\local-packages\\python312\\site-packages (from langchain_core->-r requirements.txt (line 3)) (2.8.2)\n",
      "Requirement already satisfied: tenacity!=8.4.0,<9.0.0,>=8.1.0 in c:\\users\\usuario\\appdata\\local\\packages\\pythonsoftwarefoundation.python.3.12_qbz5n2kfra8p0\\localcache\\local-packages\\python312\\site-packages (from langchain_core->-r requirements.txt (line 3)) (8.5.0)\n",
      "Requirement already satisfied: typing-extensions>=4.7 in c:\\users\\usuario\\appdata\\local\\packages\\pythonsoftwarefoundation.python.3.12_qbz5n2kfra8p0\\localcache\\local-packages\\python312\\site-packages (from langchain_core->-r requirements.txt (line 3)) (4.12.2)\n",
      "Requirement already satisfied: jsonpointer>=1.9 in c:\\users\\usuario\\appdata\\local\\packages\\pythonsoftwarefoundation.python.3.12_qbz5n2kfra8p0\\localcache\\local-packages\\python312\\site-packages (from jsonpatch<2.0,>=1.33->langchain_core->-r requirements.txt (line 3)) (3.0.0)\n",
      "Requirement already satisfied: orjson<4.0.0,>=3.9.14 in c:\\users\\usuario\\appdata\\local\\packages\\pythonsoftwarefoundation.python.3.12_qbz5n2kfra8p0\\localcache\\local-packages\\python312\\site-packages (from langsmith<0.2.0,>=0.1.75->langchain_core->-r requirements.txt (line 3)) (3.10.6)\n",
      "Requirement already satisfied: requests<3,>=2 in c:\\users\\usuario\\appdata\\local\\packages\\pythonsoftwarefoundation.python.3.12_qbz5n2kfra8p0\\localcache\\local-packages\\python312\\site-packages (from langsmith<0.2.0,>=0.1.75->langchain_core->-r requirements.txt (line 3)) (2.32.3)\n",
      "Requirement already satisfied: anyio<5,>=3.5.0 in c:\\users\\usuario\\appdata\\local\\packages\\pythonsoftwarefoundation.python.3.12_qbz5n2kfra8p0\\localcache\\local-packages\\python312\\site-packages (from openai<2.0.0,>=1.32.0->langchain_openai->-r requirements.txt (line 2)) (4.4.0)\n",
      "Requirement already satisfied: distro<2,>=1.7.0 in c:\\users\\usuario\\appdata\\local\\packages\\pythonsoftwarefoundation.python.3.12_qbz5n2kfra8p0\\localcache\\local-packages\\python312\\site-packages (from openai<2.0.0,>=1.32.0->langchain_openai->-r requirements.txt (line 2)) (1.9.0)\n",
      "Requirement already satisfied: httpx<1,>=0.23.0 in c:\\users\\usuario\\appdata\\local\\packages\\pythonsoftwarefoundation.python.3.12_qbz5n2kfra8p0\\localcache\\local-packages\\python312\\site-packages (from openai<2.0.0,>=1.32.0->langchain_openai->-r requirements.txt (line 2)) (0.27.0)\n",
      "Requirement already satisfied: sniffio in c:\\users\\usuario\\appdata\\local\\packages\\pythonsoftwarefoundation.python.3.12_qbz5n2kfra8p0\\localcache\\local-packages\\python312\\site-packages (from openai<2.0.0,>=1.32.0->langchain_openai->-r requirements.txt (line 2)) (1.3.1)\n",
      "Requirement already satisfied: tqdm>4 in c:\\users\\usuario\\appdata\\local\\packages\\pythonsoftwarefoundation.python.3.12_qbz5n2kfra8p0\\localcache\\local-packages\\python312\\site-packages (from openai<2.0.0,>=1.32.0->langchain_openai->-r requirements.txt (line 2)) (4.66.4)\n",
      "Requirement already satisfied: annotated-types>=0.4.0 in c:\\users\\usuario\\appdata\\local\\packages\\pythonsoftwarefoundation.python.3.12_qbz5n2kfra8p0\\localcache\\local-packages\\python312\\site-packages (from pydantic<3.0.0,>=2.7.4->langchain_core->-r requirements.txt (line 3)) (0.7.0)\n",
      "Requirement already satisfied: pydantic-core==2.20.1 in c:\\users\\usuario\\appdata\\local\\packages\\pythonsoftwarefoundation.python.3.12_qbz5n2kfra8p0\\localcache\\local-packages\\python312\\site-packages (from pydantic<3.0.0,>=2.7.4->langchain_core->-r requirements.txt (line 3)) (2.20.1)\n",
      "Requirement already satisfied: regex>=2022.1.18 in c:\\users\\usuario\\appdata\\local\\packages\\pythonsoftwarefoundation.python.3.12_qbz5n2kfra8p0\\localcache\\local-packages\\python312\\site-packages (from tiktoken<1,>=0.7->langchain_openai->-r requirements.txt (line 2)) (2024.7.24)\n",
      "Requirement already satisfied: idna>=2.8 in c:\\users\\usuario\\appdata\\local\\packages\\pythonsoftwarefoundation.python.3.12_qbz5n2kfra8p0\\localcache\\local-packages\\python312\\site-packages (from anyio<5,>=3.5.0->openai<2.0.0,>=1.32.0->langchain_openai->-r requirements.txt (line 2)) (3.7)\n",
      "Requirement already satisfied: certifi in c:\\users\\usuario\\appdata\\local\\packages\\pythonsoftwarefoundation.python.3.12_qbz5n2kfra8p0\\localcache\\local-packages\\python312\\site-packages (from httpx<1,>=0.23.0->openai<2.0.0,>=1.32.0->langchain_openai->-r requirements.txt (line 2)) (2024.7.4)\n",
      "Requirement already satisfied: httpcore==1.* in c:\\users\\usuario\\appdata\\local\\packages\\pythonsoftwarefoundation.python.3.12_qbz5n2kfra8p0\\localcache\\local-packages\\python312\\site-packages (from httpx<1,>=0.23.0->openai<2.0.0,>=1.32.0->langchain_openai->-r requirements.txt (line 2)) (1.0.5)\n",
      "Requirement already satisfied: h11<0.15,>=0.13 in c:\\users\\usuario\\appdata\\local\\packages\\pythonsoftwarefoundation.python.3.12_qbz5n2kfra8p0\\localcache\\local-packages\\python312\\site-packages (from httpcore==1.*->httpx<1,>=0.23.0->openai<2.0.0,>=1.32.0->langchain_openai->-r requirements.txt (line 2)) (0.14.0)\n",
      "Requirement already satisfied: charset-normalizer<4,>=2 in c:\\users\\usuario\\appdata\\local\\packages\\pythonsoftwarefoundation.python.3.12_qbz5n2kfra8p0\\localcache\\local-packages\\python312\\site-packages (from requests<3,>=2->langsmith<0.2.0,>=0.1.75->langchain_core->-r requirements.txt (line 3)) (3.3.2)\n",
      "Requirement already satisfied: urllib3<3,>=1.21.1 in c:\\users\\usuario\\appdata\\local\\packages\\pythonsoftwarefoundation.python.3.12_qbz5n2kfra8p0\\localcache\\local-packages\\python312\\site-packages (from requests<3,>=2->langsmith<0.2.0,>=0.1.75->langchain_core->-r requirements.txt (line 3)) (2.2.2)\n",
      "Requirement already satisfied: colorama in c:\\users\\usuario\\appdata\\local\\packages\\pythonsoftwarefoundation.python.3.12_qbz5n2kfra8p0\\localcache\\local-packages\\python312\\site-packages (from tqdm>4->openai<2.0.0,>=1.32.0->langchain_openai->-r requirements.txt (line 2)) (0.4.6)\n"
     ]
    }
   ],
   "source": [
    "! pip install -r requirements.txt"
   ]
  },
  {
   "cell_type": "code",
   "execution_count": null,
   "metadata": {},
   "outputs": [],
   "source": [
    "result = \"\"\"\n",
    "[\n",
    "    {\n",
    "        \"scene_number\": 1,\n",
    "        \"Title\": \"Introduction\",\n",
    "        \"Description\": \"The scene opens with a wide-shot view of a modern office space, filled with employees working on their computers. The HPC BRASIL logo is prominently displayed on the wall.\",\n",
    "        \"Tags\": [\"office\", \"workplace\", \"employees\", \"branding\"],\n",
    "        \"VoiceOver\": \"At HPC BRASIL, our mission is to drive innovation through technology consulting.\",\n",
    "        \"Duration\": 10,\n",
    "        \"QueryImage\": \"modern technology office\"\n",
    "    },\n",
    "    {\n",
    "        \"scene_number\": 2,\n",
    "        \"Title\": \"Our Mission\",\n",
    "        \"Description\": \"The camera zooms in on the mission statement framed on the office wall. The scene transitions to various employees working diligently and collaboratively.\",\n",
    "        \"Tags\": [\"mission statement\", \"employee collaboration\", \"workspace\"],\n",
    "        \"VoiceOver\": \"We believe in leveraging cutting-edge solutions to empower businesses and organizations to thrive in a rapidly evolving digital landscape.\",\n",
    "        \"Duration\": 12,\n",
    "        \"QueryImage\": \"office employees working together\"\n",
    "    },\n",
    "    {\n",
    "        \"scene_number\": 3,\n",
    "        \"Title\": \"Our Expertise\",\n",
    "        \"Description\": \"The scene shifts to a round table discussion with senior consultants. They are seen brainstorming, discussing charts, and working on laptops.\",\n",
    "        \"Tags\": [\"consultants\", \"meeting\", \"brainstorming\"],\n",
    "        \"VoiceOver\": \"Our consultants possess a deep understanding of industry trends, emerging technologies, and best practices, allowing us to offer strategic guidance and implement tailored solutions that address our clients' unique challenges and objectives.\",\n",
    "        \"Duration\": 15,\n",
    "        \"QueryImage\": \"technology consultants meeting\"\n",
    "    },\n",
    "    {\n",
    "        \"scene_number\": 4,\n",
    "        \"Title\": \"Our Services\",\n",
    "        \"Description\": \"The scene transitions to various visuals representing different industries - a busy hospital, a bustling factory, a lively startup office, and a financial institution. Overlay graphics show the different services provided by HPC BRASIL.\",\n",
    "        \"Tags\": [\"industry visuals\", \"services\", \"hospital\", \"factory\", \"startup\", \"finance\"],\n",
    "        \"VoiceOver\": \"From startups to enterprises, we provide end-to-end solutions in software development, big data analytics, artificial intelligence, and blockchain technology. Our expertise spans industries such as finance, healthcare, e-commerce, manufacturing, and more.\",\n",
    "        \"Duration\": 20,\n",
    "        \"QueryImage\": \"diverse industry visuals\"\n",
    "    }\n",
    "]\n",
    "\"\"\""
   ]
  }
 ],
 "metadata": {
  "kernelspec": {
   "display_name": "Python 3",
   "language": "python",
   "name": "python3"
  },
  "language_info": {
   "codemirror_mode": {
    "name": "ipython",
    "version": 3
   },
   "file_extension": ".py",
   "mimetype": "text/x-python",
   "name": "python",
   "nbconvert_exporter": "python",
   "pygments_lexer": "ipython3",
   "version": "3.12.4"
  }
 },
 "nbformat": 4,
 "nbformat_minor": 2
}
