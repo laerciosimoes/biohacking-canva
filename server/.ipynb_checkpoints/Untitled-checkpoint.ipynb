{
 "cells": [
  {
   "cell_type": "code",
   "execution_count": 1,
   "id": "09534c27-63f1-4303-adfe-f092dae5e030",
   "metadata": {},
   "outputs": [],
   "source": [
    "import json\n",
    "from moviepy.editor import (\n",
    "    ImageClip,\n",
    "    TextClip,\n",
    "    CompositeVideoClip,\n",
    "    concatenate_videoclips,\n",
    ")\n",
    "from IPython.display import Video, display\n"
   ]
  },
  {
   "cell_type": "code",
   "execution_count": null,
   "id": "8b56ba84-5933-400f-85bb-83abc5ed22e5",
   "metadata": {},
   "outputs": [],
   "source": [
    "# Dados de amostra\n",
    "json_data = [\n",
    "    {\"description\": \"Our Success Stories\\nThrough our dedication to excellence...\", \"duration\": 5},\n",
    "    {\"description\": \"Why HPC BRASIL?\\nChoosing HPC BRASIL means partnering with...\", \"duration\": 5},\n",
    "    {\"description\": \"Our Promise\\nAt HPC BRASIL, we promise to deliver innovative...\", \"duration\": 5},\n",
    "    {\"description\": \"Closing Scene\\n[Visuals of the HPC BRASIL team working collaboratively...]\", \"duration\": 5},\n",
    "    {\"description\": 'Voiceover: \"Get in touch with HPC BRASIL today...\"', \"duration\": 5},\n",
    "]\n",
    "\n",
    "# URLs de imagens\n",
    "scene_images = [\n",
    "    \"https://example.com/image1.jpg\",\n",
    "    \"https://example.com/image2.jpg\",\n",
    "    \"https://example.com/image3.jpg\",\n",
    "    \"https://example.com/image4.jpg\",\n",
    "    \"https://example.com/image5.jpg\",\n",
    "]\n",
    "\n",
    "def create_video(json_data, scene_images, output_path=\"video.mp4\"):\n",
    "    clips = []\n",
    "    for scene, image_url in zip(json_data, scene_images):\n",
    "        duration = int(scene[\"duration\"])\n",
    "        if image_url:\n",
    "            img_clip = ImageClip(image_url).set_duration(duration)\n",
    "            txt_clip = (\n",
    "                TextClip(scene[\"description\"], fontsize=24, color=\"white\")\n",
    "                .set_position(\"bottom\")\n",
    "                .set_duration(duration)\n",
    "            )\n",
    "            video_clip = CompositeVideoClip([img_clip, txt_clip])\n",
    "            clips.append(video_clip)\n",
    "\n",
    "    final_clip = concatenate_videoclips(clips, method=\"compose\")\n",
    "    final_clip.write_videofile(output_path, fps=24)\n"
   ]
  },
  {
   "cell_type": "code",
   "execution_count": null,
   "id": "e14231b5-6d31-4d5d-8978-b5034b83d9bd",
   "metadata": {},
   "outputs": [],
   "source": [
    "# Criar o vídeo\n",
    "video_output_path = \"video.mp4\"\n",
    "create_video(json_data, scene_images, video_output_path)\n",
    "\n",
    "# Exibir o vídeo no notebook\n",
    "display(Video(video_output_path, embed=True))\n"
   ]
  }
 ],
 "metadata": {
  "kernelspec": {
   "display_name": "Python 3 (ipykernel)",
   "language": "python",
   "name": "python3"
  },
  "language_info": {
   "codemirror_mode": {
    "name": "ipython",
    "version": 3
   },
   "file_extension": ".py",
   "mimetype": "text/x-python",
   "name": "python",
   "nbconvert_exporter": "python",
   "pygments_lexer": "ipython3",
   "version": "3.12.3"
  }
 },
 "nbformat": 4,
 "nbformat_minor": 5
}
